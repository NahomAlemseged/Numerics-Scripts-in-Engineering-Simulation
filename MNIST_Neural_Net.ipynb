{
 "cells": [
  {
   "cell_type": "markdown",
   "id": "ec124971",
   "metadata": {},
   "source": [
    "### IMPORT RELEVENT PACKAGES"
   ]
  },
  {
   "cell_type": "code",
   "execution_count": 62,
   "id": "8f4d6178",
   "metadata": {},
   "outputs": [],
   "source": [
    "import numpy as np\n",
    "import tensorflow as tf\n",
    "import tensorflow_datasets as tfds"
   ]
  },
  {
   "cell_type": "markdown",
   "id": "b1fbf2a6",
   "metadata": {},
   "source": [
    "### DATA"
   ]
  },
  {
   "cell_type": "code",
   "execution_count": 51,
   "id": "27a0efc4",
   "metadata": {},
   "outputs": [],
   "source": [
    "mnist_dataset, mnist_info = tfds.load(name='mnist',with_info=True, as_supervised=True)"
   ]
  },
  {
   "cell_type": "code",
   "execution_count": 52,
   "id": "1ce18a93",
   "metadata": {},
   "outputs": [],
   "source": [
    "mnist_train, mnist_test = mnist_dataset['train'],mnist_dataset['test']\n",
    "\n",
    "num_validation_samples = 0.1 * mnist_info.splits['train'].num_examples\n",
    "num_validation_samples = tf.cast(num_validation_samples,tf.int64)\n",
    "\n",
    "num_test_samples = mnist_info.splits['test'].num_examples\n",
    "num_test_samples = tf.cast(num_test_samples,tf.int64)\n",
    "\n",
    "def scale(image,label):\n",
    "    image = tf.cast(image,tf.float32)\n",
    "    image /= 255.\n",
    "    return image, label\n",
    "scaled_train_validation_data = mnist_train.map(scale)\n",
    "test_data = mnist_test.map(scale)\n",
    "\n",
    "buffer_size = 10000  #SHUFFLE 7500 DATA @ ONCE\n",
    "shuffled_train_validation_data = scaled_train_validation_data.shuffle(buffer_size)"
   ]
  },
  {
   "cell_type": "code",
   "execution_count": 53,
   "id": "0fd45e8b",
   "metadata": {},
   "outputs": [],
   "source": [
    "validation_data = scaled_train_validation_data.take(num_validation_samples)\n",
    "train_data = scaled_train_validation_data.skip(num_validation_samples)\n"
   ]
  },
  {
   "cell_type": "code",
   "execution_count": 54,
   "id": "cc967679",
   "metadata": {},
   "outputs": [],
   "source": [
    "batch_size = 100\n",
    "train_data = train_data.batch(batch_size)\n",
    "validation_data= validation_data.batch(num_validation_samples)\n",
    "test_data = test_data.batch(num_test_samples)"
   ]
  },
  {
   "cell_type": "code",
   "execution_count": 55,
   "id": "9d8bf3b6",
   "metadata": {},
   "outputs": [],
   "source": [
    "validation_inputs, validation_targets = next(iter(validation_data))"
   ]
  },
  {
   "cell_type": "markdown",
   "id": "cf7ac968",
   "metadata": {},
   "source": [
    "### NEURAL NET MODEL"
   ]
  },
  {
   "cell_type": "code",
   "execution_count": 68,
   "id": "e6fd856a",
   "metadata": {},
   "outputs": [],
   "source": [
    "input_size= 784\n",
    "hidden_layer_size = 50\n",
    "output_layer_size = 10\n",
    "model = tf.keras.Sequential([\n",
    "                                tf.keras.layers.Flatten(input_shape=(28,28,1)),\n",
    "                                tf.keras.layers.Dense(hidden_layer_size,activation = 'relu'),\n",
    "                                tf.keras.layers.Dense(hidden_layer_size,activation = 'relu'),\n",
    "                                tf.keras.layers.Dense(output_layer_size,activation = 'softmax')\n",
    "                            ])"
   ]
  },
  {
   "cell_type": "code",
   "execution_count": 69,
   "id": "4822ce7c",
   "metadata": {},
   "outputs": [],
   "source": [
    "model.compile(optimizer = 'adam', loss = 'sparse_categorical_crossentropy',metrics = ['accuracy'])"
   ]
  },
  {
   "cell_type": "markdown",
   "id": "9ae74712",
   "metadata": {},
   "source": [
    "### TRAIN"
   ]
  },
  {
   "cell_type": "code",
   "execution_count": 70,
   "id": "fafd163d",
   "metadata": {},
   "outputs": [
    {
     "name": "stdout",
     "output_type": "stream",
     "text": [
      "Epoch 1/5\n",
      "540/540 - 3s - loss: 0.4048 - accuracy: 0.8830 - val_loss: 0.2158 - val_accuracy: 0.9350\n",
      "Epoch 2/5\n",
      "540/540 - 3s - loss: 0.1803 - accuracy: 0.9469 - val_loss: 0.1692 - val_accuracy: 0.9470\n",
      "Epoch 3/5\n",
      "540/540 - 3s - loss: 0.1392 - accuracy: 0.9588 - val_loss: 0.1503 - val_accuracy: 0.9535\n",
      "Epoch 4/5\n",
      "540/540 - 3s - loss: 0.1142 - accuracy: 0.9662 - val_loss: 0.1396 - val_accuracy: 0.9558\n",
      "Epoch 5/5\n",
      "540/540 - 3s - loss: 0.0969 - accuracy: 0.9719 - val_loss: 0.1319 - val_accuracy: 0.9593\n"
     ]
    },
    {
     "data": {
      "text/plain": [
       "<tensorflow.python.keras.callbacks.History at 0x22a59777dc8>"
      ]
     },
     "execution_count": 70,
     "metadata": {},
     "output_type": "execute_result"
    }
   ],
   "source": [
    "num_epoch = 5\n",
    "model.fit(train_data,epochs = num_epoch, validation_data = (validation_inputs, validation_targets),verbose = 2)"
   ]
  },
  {
   "cell_type": "code",
   "execution_count": 72,
   "id": "ff204f9a",
   "metadata": {},
   "outputs": [
    {
     "name": "stdout",
     "output_type": "stream",
     "text": [
      "1/1 [==============================] - 0s 0s/step - loss: 0.1185 - accuracy: 0.9639\n",
      "Test_Loss: 0.12. Test_Accuracy: 96.39%\n"
     ]
    }
   ],
   "source": [
    "test_loss, test_accuracy = model.evaluate(test_data)\n",
    "print('Test_Loss: {0:.2f}. Test_Accuracy: {1:.2f}%'.format(test_loss,test_accuracy*100))"
   ]
  },
  {
   "cell_type": "code",
   "execution_count": null,
   "id": "d5946123",
   "metadata": {},
   "outputs": [],
   "source": []
  }
 ],
 "metadata": {
  "kernelspec": {
   "display_name": "Python 3",
   "language": "python",
   "name": "python3"
  },
  "language_info": {
   "codemirror_mode": {
    "name": "ipython",
    "version": 3
   },
   "file_extension": ".py",
   "mimetype": "text/x-python",
   "name": "python",
   "nbconvert_exporter": "python",
   "pygments_lexer": "ipython3",
   "version": "3.7.10"
  }
 },
 "nbformat": 4,
 "nbformat_minor": 5
}
