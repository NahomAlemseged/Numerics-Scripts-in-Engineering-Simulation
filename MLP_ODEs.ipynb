{
 "cells": [
  {
   "cell_type": "markdown",
   "metadata": {},
   "source": [
    "## NEURAL NETWORKS (MLP) TO SOLVE ODEs"
   ]
  },
  {
   "cell_type": "markdown",
   "metadata": {},
   "source": [
    "### PROBLEM :\n",
    "### U' = 2X WITH CONDITION X(0) = 1\n",
    "### ANALYTICAL SOLUTION PROOVE TO BE EQUATION U = 2x+1\n",
    "### HENCE WE USE MLP TYPE NEURAL NET TO SOLVE THE ODE"
   ]
  },
  {
   "cell_type": "markdown",
   "metadata": {},
   "source": [
    "### IMPORT RELEVANT LIBRARIES"
   ]
  },
  {
   "cell_type": "code",
   "execution_count": 91,
   "metadata": {},
   "outputs": [],
   "source": [
    "import tensorflow as tf\n",
    "import numpy as np\n",
    "import matplotlib.pyplot as plt"
   ]
  },
  {
   "cell_type": "markdown",
   "metadata": {},
   "source": [
    "### DECLARE VARIABLES"
   ]
  },
  {
   "cell_type": "code",
   "execution_count": 119,
   "metadata": {},
   "outputs": [],
   "source": [
    "f0 = 1\n",
    "inf_s = np.sqrt(np.finfo(np.float32).eps)\n",
    "learning_rate = 0.01\n",
    "training_steps = 1000\n",
    "batch_size = 100\n",
    "display_step = 150000"
   ]
  },
  {
   "cell_type": "markdown",
   "metadata": {},
   "source": [
    "### DEFINING NETWORK PARAMETERS"
   ]
  },
  {
   "cell_type": "code",
   "execution_count": 120,
   "metadata": {},
   "outputs": [],
   "source": [
    "n_input = 1           #No of Neurons on Input Layer\n",
    "n_hidden_1 = 32       #No of Neurons on First Hidden Layer\n",
    "n_hidden_2 = 32       #No of Neurons on Second Hidden Layer\n",
    "n_output = 1        #No of Neurons on Output Layer\n",
    "# Randomly Initializing (Generating) weights and Biases for Each Layers with Dimensions Specified\n",
    "weights = {\n",
    "    'w1':tf.Variable(tf.random.normal([n_input,n_hidden_1])),\n",
    "    'w2':tf.Variable(tf.random.normal([n_hidden_1,n_hidden_2])),\n",
    "    'w_out':tf.Variable(tf.random.normal([n_hidden_2,n_output]))\n",
    "}\n",
    "biases = {\n",
    "    'b1':tf.Variable(tf.random.normal([n_hidden_1])),\n",
    "    'b2':tf.Variable(tf.random.normal([n_hidden_2])),\n",
    "    'b_out':tf.Variable(tf.random.normal([n_output]))\n",
    "}\n"
   ]
  },
  {
   "cell_type": "markdown",
   "metadata": {},
   "source": [
    "### CHOOSING OPTIMIZER (STOCHASTIC GRADIENT DESCENT(SGD))"
   ]
  },
  {
   "cell_type": "code",
   "execution_count": 121,
   "metadata": {},
   "outputs": [],
   "source": [
    "optimizer = tf.optimizers.SGD(learning_rate) # Choose Optimizer SGD with Learning_Rate as Imput Parameter."
   ]
  },
  {
   "cell_type": "markdown",
   "metadata": {},
   "source": [
    "### DEVELOP THE MLP MODEL"
   ]
  },
  {
   "cell_type": "code",
   "execution_count": 122,
   "metadata": {},
   "outputs": [],
   "source": [
    "def Multilayer_Perceptron(x):\n",
    "    x = np.array([[[x]]],     dtype='float32')\n",
    "    layer_1 = tf.add(tf.matmul(x,weights['w1']), biases['b1']) # Matrix Multiplication of Weights and Values Initialized Layer_1\n",
    "    layer_1 = tf.nn.tanh(layer_1) # Apply an Activation (tanh or any Activation Function) Funciton for Layer_1\n",
    "    layer_2 = tf.add(tf.matmul(layer_1, weights['w2']), biases['b2'])\n",
    "    layer_2 = tf.nn.tanh(layer_2)\n",
    "    output = tf.add(tf.matmul(layer_2, weights['w_out']), biases['b_out'])\n",
    "    output = tf.nn.tanh(output)\n",
    "    return output\n",
    "    "
   ]
  },
  {
   "cell_type": "markdown",
   "metadata": {},
   "source": [
    "### UNIVESAL APPROXIMATOR"
   ]
  },
  {
   "cell_type": "code",
   "execution_count": 123,
   "metadata": {},
   "outputs": [],
   "source": [
    "def g(x):\n",
    "    return x * Multilayer_Perceptron(x) + f0\n"
   ]
  },
  {
   "cell_type": "code",
   "execution_count": 124,
   "metadata": {},
   "outputs": [],
   "source": [
    "def f(x):\n",
    "    return 2*x"
   ]
  },
  {
   "cell_type": "markdown",
   "metadata": {},
   "source": [
    "def f(x):\n",
    "    return 2*(x)\n"
   ]
  },
  {
   "cell_type": "markdown",
   "metadata": {},
   "source": [
    "### LOSS FUNCTION (CUSTOM) TO APPROXIMATE THE DERIVATIVE "
   ]
  },
  {
   "cell_type": "code",
   "execution_count": 125,
   "metadata": {},
   "outputs": [],
   "source": [
    "def local_loss():\n",
    "    summation=[]\n",
    "    for x in np.linspace(-1,1,10):\n",
    "        dNN = (g(x+inf_s)-g(x))/inf_s\n",
    "        summation.append((dNN - f(x)) **2)\n",
    "    return tf.sqrt(tf.reduce_mean(tf.abs(summation))) "
   ]
  },
  {
   "cell_type": "markdown",
   "metadata": {},
   "source": [
    "### TRAINING STEP"
   ]
  },
  {
   "cell_type": "code",
   "execution_count": 126,
   "metadata": {},
   "outputs": [
    {
     "name": "stdout",
     "output_type": "stream",
     "text": [
      "loss: 1.157269\n"
     ]
    }
   ],
   "source": [
    "def training_():\n",
    "    tape = tf.GradientTape()\n",
    "    loss = local_loss()\n",
    "    trainables = list(weights.values()) + list(biases.values())\n",
    "    gradients = tape.gradient(zip(loss,trainables))\n",
    "for i in range(training_steps):\n",
    "#     training_()\n",
    "    if i%display_step == 0:\n",
    "        print(\"loss: %f\" %(local_loss()))\n"
   ]
  },
  {
   "cell_type": "markdown",
   "metadata": {},
   "source": [
    "### RESULT COMPARISON"
   ]
  },
  {
   "cell_type": "code",
   "execution_count": 129,
   "metadata": {},
   "outputs": [
    {
     "data": {
      "image/png": "[encoded data removed]",
      "text/plain": [
       "<Figure size 432x288 with 1 Axes>"
      ]
     },
     "metadata": {
      "needs_background": "light"
     },
     "output_type": "display_data"
    }
   ],
   "source": [
    "# True Solution (found analitically)\n",
    "def Analytic_(x):\n",
    "    return x**2 + 1\n",
    "X = np.linspace(0, 1, 100)\n",
    "result = []\n",
    "for i in X:\n",
    "    result.append(g(i).numpy()[0][0][0])\n",
    "S = Analytic_(X)\n",
    "plt.plot(X, result,'--')\n",
    "plt.plot(X, S,'+')\n",
    "plt.legend(['Analytic Result','Neural Net Results'])\n",
    "plt.grid()\n",
    "plt.show()"
   ]
  },
  {
   "cell_type": "code",
   "execution_count": null,
   "metadata": {},
   "outputs": [],
   "source": []
  },
  {
   "cell_type": "code",
   "execution_count": null,
   "metadata": {},
   "outputs": [],
   "source": []
  }
 ],
 "metadata": {
  "kernelspec": {
   "display_name": "Python [conda env:tensorflow-gpu]",
   "language": "python",
   "name": "conda-env-tensorflow-gpu-py"
  },
  "language_info": {
   "codemirror_mode": {
    "name": "ipython",
    "version": 3
   },
   "file_extension": ".py",
   "mimetype": "text/x-python",
   "name": "python",
   "nbconvert_exporter": "python",
   "pygments_lexer": "ipython3",
   "version": "3.7.10"
  }
 },
 "nbformat": 4,
 "nbformat_minor": 4
}
