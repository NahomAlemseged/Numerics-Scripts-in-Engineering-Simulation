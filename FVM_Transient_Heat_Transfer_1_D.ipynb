{
 "cells": [
  {
   "cell_type": "markdown",
   "metadata": {},
   "source": [
    "## FINITE VOLUME METHOD OF 1-D TRANSIENT DIFFUSION EQUATION"
   ]
  },
  {
   "cell_type": "markdown",
   "metadata": {},
   "source": [
    "### EXAMPLE 8.2 Found on Page 253 of \"An Introduction to Computational Fluid Dynamics\" by H.K. Versteeg et.al."
   ]
  },
  {
   "cell_type": "markdown",
   "metadata": {},
   "source": [
    "## PART 1: DESCRIPTION"
   ]
  },
  {
   "cell_type": "markdown",
   "metadata": {},
   "source": [
    "### General Discretized Equation of FVM using Implicit Scheme is given as\n",
    "  "
   ]
  },
  {
   "cell_type": "markdown",
   "metadata": {},
   "source": [
    "  $\\rho_c [\\frac{Tp-Tp^0}{\\delta{t}}] \\delta{x} = [\\frac{k_e [T_E-T_P]}{\\delta{x_e}} - \\frac{k_w [T_P-T_W]}{\\delta{x_w}}]$                                                                                                       "
   ]
  },
  {
   "cell_type": "markdown",
   "metadata": {},
   "source": [
    "### which can be written in the form "
   ]
  },
  {
   "cell_type": "markdown",
   "metadata": {},
   "source": [
    "$a_PT_P$ = $a_ET_E$ + $a_WT_W$ + $a_P^0T_P^0$"
   ]
  },
  {
   "cell_type": "markdown",
   "metadata": {},
   "source": [
    "### Nodes 2,3 and 4"
   ]
  },
  {
   "cell_type": "markdown",
   "metadata": {},
   "source": [
    "$250 T_P = 25 T_E + 25 T_W + 200 T_P^0$"
   ]
  },
  {
   "cell_type": "markdown",
   "metadata": {},
   "source": [
    "### Node 1"
   ]
  },
  {
   "cell_type": "markdown",
   "metadata": {},
   "source": [
    "$T_P - T_W = 0$"
   ]
  },
  {
   "cell_type": "markdown",
   "metadata": {},
   "source": [
    "$225 T_P = 25 T_E + 200 T_P^0$"
   ]
  },
  {
   "cell_type": "markdown",
   "metadata": {},
   "source": [
    "### Node 5"
   ]
  },
  {
   "cell_type": "markdown",
   "metadata": {},
   "source": [
    "$T_B = T_E$"
   ]
  },
  {
   "cell_type": "markdown",
   "metadata": {},
   "source": [
    "$275 T_P = 50 T_B + 25 T_W + 200 T_P^0$"
   ]
  },
  {
   "cell_type": "markdown",
   "metadata": {},
   "source": [
    "## PART 2: CODING"
   ]
  },
  {
   "cell_type": "markdown",
   "metadata": {},
   "source": [
    "### Step 1: Import Necessary Libraries "
   ]
  },
  {
   "cell_type": "code",
   "execution_count": 186,
   "metadata": {},
   "outputs": [],
   "source": [
    "import numpy as np\n",
    "import matplotlib.pyplot as plt"
   ]
  },
  {
   "cell_type": "markdown",
   "metadata": {},
   "source": [
    "### Step 2: Declare Variables and Initializations"
   ]
  },
  {
   "cell_type": "code",
   "execution_count": 193,
   "metadata": {},
   "outputs": [],
   "source": [
    "nx = 5\n",
    "ts = 40\n",
    "dx = 0.004*100\n",
    "dt = 2\n",
    "nt = (ts/dt) + 1\n",
    "k = 10\n",
    "rho = 10**7/100\n",
    "A = np.zeros((nx,nx))\n",
    "T = np.zeros(nx)\n",
    "B = np.zeros(nx)"
   ]
  },
  {
   "cell_type": "markdown",
   "metadata": {},
   "source": [
    "### Step 3: Fill Coefficient Matrix and Known (RHS) Vector"
   ]
  },
  {
   "cell_type": "code",
   "execution_count": 210,
   "metadata": {},
   "outputs": [
    {
     "name": "stdout",
     "output_type": "stream",
     "text": [
      "[200. 200. 200. 200. 200.]\n"
     ]
    }
   ],
   "source": [
    "tt = T\n",
    "tt[:] = 200\n",
    "print(tt)\n",
    "nx = int(nx)\n",
    "nt = int(nt)\n",
    "for i in range(nt):\n",
    "    tt0 = tt\n",
    "    nx = int(nx)\n",
    "    for j in range(nx):\n",
    "            if j == 0:\n",
    "                    aE = k/dx\n",
    "                    aP0 = rho * dx/(dt * 100)\n",
    "                    aP = aP0 + aE\n",
    "                    A[0,0] = aP\n",
    "                    A[0,1] = -aE\n",
    "                    B[0] = 200 * tt0[0]\n",
    "            elif j==4:\n",
    "                    aW = k/dx\n",
    "                    aE = k/(dx/2)\n",
    "                    aP0 = rho * dx/(dt * 100)\n",
    "                    aP = aP0 + aW + aE\n",
    "                    A[j,j-1] = -aW\n",
    "                    A[j,j] = aP\n",
    "                    B[j] = 200 * tt0[j]      \n",
    "            else:\n",
    "                    aW = k/dx\n",
    "                    aE = k/dx\n",
    "                    aP0 = rho * dx/(dt*100)\n",
    "                    aP = aP0 + aW + aE\n",
    "                    A[j,j-1] = -aW\n",
    "                    A[j,j] = aP\n",
    "                    A[j,j+1] = -aE\n",
    "                    B[j] = 200 * tt0[j]\n",
    "         \n",
    "\n",
    "            X = np.linalg.inv(A).dot(B)\n",
    "            tt = X"
   ]
  },
  {
   "cell_type": "markdown",
   "metadata": {},
   "source": [
    "### VISUALIZATION"
   ]
  },
  {
   "cell_type": "code",
   "execution_count": 227,
   "metadata": {},
   "outputs": [
    {
     "name": "stdout",
     "output_type": "stream",
     "text": [
      "[185.97195341 185.97195341   0.           0.           0.\n",
      "   0.           0.        ]\n",
      "[185.97195341 185.97195341 174.38781592   0.           0.\n",
      "   0.           0.        ]\n",
      "[185.97195341 185.97195341 174.38781592 147.60649096   0.\n",
      "   0.           0.        ]\n",
      "[185.97195341 185.97195341 174.38781592 147.60649096 101.36883505\n",
      "   0.           0.        ]\n",
      "[185.97195341 185.97195341 174.38781592 147.60649096 101.36883505\n",
      "  36.49819282   0.        ]\n"
     ]
    }
   ],
   "source": [
    "T = np.zeros(7)\n",
    "T[0] = tt[0]\n",
    "T[6] = 0 \n",
    "for i in range(1,6):\n",
    "    T[i] = tt[i-1]\n",
    "    print(T)"
   ]
  },
  {
   "cell_type": "code",
   "execution_count": 250,
   "metadata": {},
   "outputs": [
    {
     "data": {
      "text/plain": [
       "<function matplotlib.pyplot.show(*args, **kw)>"
      ]
     },
     "execution_count": 250,
     "metadata": {},
     "output_type": "execute_result"
    },
    {
     "data": {
      "image/png": "[encoded data removed]",
      "text/plain": [
       "<Figure size 432x288 with 1 Axes>"
      ]
     },
     "metadata": {
      "needs_background": "light"
     },
     "output_type": "display_data"
    }
   ],
   "source": [
    "xx = np.linspace(0,2,7)\n",
    "plt.grid\n",
    "plt.plot(xx,T,'-o')\n",
    "plt.xlabel('Thickness(mm)')\n",
    "plt.ylabel('Temperature (C)')\n",
    "plt.show\n",
    "\n",
    "\n"
   ]
  },
  {
   "cell_type": "markdown",
   "metadata": {},
   "source": [
    "### REMARK"
   ]
  },
  {
   "cell_type": "markdown",
   "metadata": {},
   "source": [
    "####  Soluition is in a good agreement with that of the solution of the problem of the stated book, \n",
    "#### as well as with that of the Analytical Solution "
   ]
  },
  {
   "cell_type": "code",
   "execution_count": null,
   "metadata": {},
   "outputs": [],
   "source": []
  }
 ],
 "metadata": {
  "kernelspec": {
   "display_name": "Python 3",
   "language": "python",
   "name": "python3"
  },
  "language_info": {
   "codemirror_mode": {
    "name": "ipython",
    "version": 3
   },
   "file_extension": ".py",
   "mimetype": "text/x-python",
   "name": "python",
   "nbconvert_exporter": "python",
   "pygments_lexer": "ipython3",
   "version": "3.8.3"
  }
 },
 "nbformat": 4,
 "nbformat_minor": 4
}
