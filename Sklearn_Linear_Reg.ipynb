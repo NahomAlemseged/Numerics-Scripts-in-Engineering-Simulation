{
 "cells": [
  {
   "cell_type": "markdown",
   "metadata": {},
   "source": [
    "### STEP 1: IMPORT ALL NECESSEARY LIBRARIES "
   ]
  },
  {
   "cell_type": "code",
   "execution_count": 15,
   "metadata": {},
   "outputs": [],
   "source": [
    "import pandas as pd\n",
    "import numpy as np\n",
    "import os\n",
    "import numpy as np\n",
    "from sklearn.linear_model import LinearRegression\n",
    "from sklearn.model_selection import train_test_split\n",
    "import matplotlib.pyplot as plt"
   ]
  },
  {
   "cell_type": "markdown",
   "metadata": {},
   "source": [
    "### STEP 2: CREATE A DATA FRAME USING PANDAS AND SEE SIZE"
   ]
  },
  {
   "cell_type": "code",
   "execution_count": 16,
   "metadata": {},
   "outputs": [
    {
     "name": "stdout",
     "output_type": "stream",
     "text": [
      "shape =  (17, 3)\n"
     ]
    }
   ],
   "source": [
    "df = pd.read_csv(r'C:\\Users\\user\\Desktop\\EPHI\\Linear_Reg_Example.csv')\n",
    "print('shape = ',df.shape)"
   ]
  },
  {
   "cell_type": "markdown",
   "metadata": {},
   "source": [
    "###       DISPLAY HEAD DEFAULT OF FIRST FIVE VALUES"
   ]
  },
  {
   "cell_type": "code",
   "execution_count": 17,
   "metadata": {},
   "outputs": [
    {
     "name": "stdout",
     "output_type": "stream",
     "text": [
      "   No  Year  Probable Estimate\n",
      "0   1  2000                110\n",
      "1   2  2001                140\n",
      "2   3  2002                146\n",
      "3   4  2003                121\n",
      "4   5  2004                107\n"
     ]
    }
   ],
   "source": [
    "x = df[\"No\"]\n",
    "y = df[\"Probable Estimate\"]\n",
    "print(df.head())"
   ]
  },
  {
   "cell_type": "markdown",
   "metadata": {},
   "source": [
    "### SPLIT TRAIN AND TEST DATA"
   ]
  },
  {
   "cell_type": "code",
   "execution_count": 18,
   "metadata": {},
   "outputs": [],
   "source": [
    "x_train,x_test,y_train,y_test = train_test_split (x , y, test_size = 0.2)"
   ]
  },
  {
   "cell_type": "markdown",
   "metadata": {},
   "source": [
    "### STEP 3: START VISUALIZATION USING SCATTER PLOT\n",
    " "
   ]
  },
  {
   "cell_type": "code",
   "execution_count": 28,
   "metadata": {
    "scrolled": true
   },
   "outputs": [
    {
     "data": {
      "text/plain": [
       "<matplotlib.legend.Legend at 0x17fddcb6370>"
      ]
     },
     "execution_count": 28,
     "metadata": {},
     "output_type": "execute_result"
    },
    {
     "data": {
      "image/png": "[encoded data removed]",
      "text/plain": [
       "<Figure size 432x288 with 1 Axes>"
      ]
     },
     "metadata": {
      "needs_background": "light"
     },
     "output_type": "display_data"
    }
   ],
   "source": [
    "from matplotlib import pyplot as plt\n",
    "plt.scatter(x_train,y_train)\n",
    "plt.xlabel('Year from 2000')\n",
    "plt.legend(['Under_Five_Mortality'])"
   ]
  },
  {
   "cell_type": "markdown",
   "metadata": {},
   "source": [
    "### STEP 4: IMPLEMENT MODELING"
   ]
  },
  {
   "cell_type": "code",
   "execution_count": 21,
   "metadata": {},
   "outputs": [],
   "source": [
    "from sklearn. linear_model import LinearRegression\n",
    "x_train = np.array(x_train)\n",
    "x_train = x_train.reshape(len(x_train),1)\n",
    "x_test = np.array(x_test)\n",
    "x_test = x_test.reshape(len(x_test),1)\n",
    "y_train = np.array(y_train)\n",
    "y_train = y_train.reshape(len(y_train),1)\n",
    "y_test = np.array(y_test)\n",
    "y_test = y_test.reshape(len(y_test),1)"
   ]
  },
  {
   "cell_type": "code",
   "execution_count": 22,
   "metadata": {
    "scrolled": true
   },
   "outputs": [
    {
     "data": {
      "text/plain": [
       "LinearRegression()"
      ]
     },
     "execution_count": 22,
     "metadata": {},
     "output_type": "execute_result"
    }
   ],
   "source": [
    "reg = LinearRegression()\n",
    "reg.fit(x_train,y_train)"
   ]
  },
  {
   "cell_type": "code",
   "execution_count": 30,
   "metadata": {},
   "outputs": [
    {
     "name": "stdout",
     "output_type": "stream",
     "text": [
      "Coefficients: [[-4.27847553]]\n",
      "Intercept: [135.50238198]\n",
      "[[ 64]\n",
      " [102]\n",
      " [107]\n",
      " [106]\n",
      " [ 89]\n",
      " [110]\n",
      " [120]\n",
      " [ 66]\n",
      " [ 69]\n",
      " [ 70]\n",
      " [121]\n",
      " [ 67]\n",
      " [140]]\n"
     ]
    }
   ],
   "source": [
    "print (\"Coefficients:\", reg.coef_)\n",
    "print (\"Intercept:\", reg.intercept_)\n",
    "print(y_train)"
   ]
  },
  {
   "cell_type": "code",
   "execution_count": 24,
   "metadata": {},
   "outputs": [
    {
     "name": "stdout",
     "output_type": "stream",
     "text": [
      "MSE: 98.78035779724827\n",
      "R^2: 0.8025190235599102\n",
      "var: 598.9822485207101\n"
     ]
    }
   ],
   "source": [
    "from sklearn import metrics\n",
    "y_hat = reg.predict(x_train)\n",
    "print (\"MSE:\", metrics.mean_squared_error(y_hat , y_train))\n",
    "print (\"R^2:\", metrics.r2_score(y_hat , y_train))\n",
    "print (\"var:\", y_train.var())\n"
   ]
  },
  {
   "cell_type": "markdown",
   "metadata": {},
   "source": [
    "### VALIDATION"
   ]
  },
  {
   "cell_type": "code",
   "execution_count": 26,
   "metadata": {},
   "outputs": [
    {
     "name": "stdout",
     "output_type": "stream",
     "text": [
      "[[-23.33304461]]\n",
      "[[3.99610221]]\n",
      "[[-0.56084885]]\n",
      "[[17.8315288]]\n"
     ]
    }
   ],
   "source": [
    "   for i in range (4):\n",
    "        x = x_test[i]\n",
    "        print(reg.predict([x])-y_test[i])"
   ]
  },
  {
   "cell_type": "markdown",
   "metadata": {},
   "source": [
    "### STEP 5: PREDICTION"
   ]
  },
  {
   "cell_type": "code",
   "execution_count": 27,
   "metadata": {},
   "outputs": [
    {
     "name": "stdout",
     "output_type": "stream",
     "text": [
      "[[49.93287137]]\n"
     ]
    }
   ],
   "source": [
    "print(reg.predict([[20]]))"
   ]
  }
 ],
 "metadata": {
  "kernelspec": {
   "display_name": "Python 3",
   "language": "python",
   "name": "python3"
  },
  "language_info": {
   "codemirror_mode": {
    "name": "ipython",
    "version": 3
   },
   "file_extension": ".py",
   "mimetype": "text/x-python",
   "name": "python",
   "nbconvert_exporter": "python",
   "pygments_lexer": "ipython3",
   "version": "3.8.3"
  }
 },
 "nbformat": 4,
 "nbformat_minor": 4
}
