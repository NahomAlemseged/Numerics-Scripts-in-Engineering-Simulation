{
 "cells": [
  {
   "cell_type": "markdown",
   "metadata": {},
   "source": [
    "## STEP 1: IMPORT ALL NECESSEARY LIBRARIES "
   ]
  },
  {
   "cell_type": "code",
   "execution_count": 241,
   "metadata": {},
   "outputs": [],
   "source": [
    "import pandas as pd\n",
    "import numpy as np\n",
    "import seaborn as sns\n",
    "import statsmodels.api as sm\n",
    "import os\n",
    "from sklearn.linear_model import LinearRegression\n",
    "from sklearn.model_selection import train_test_split\n",
    "from sklearn.feature_selection import f_regression\n",
    "import matplotlib.pyplot as plt"
   ]
  },
  {
   "cell_type": "markdown",
   "metadata": {},
   "source": [
    "## STEP 2: CREATE A DATA FRAME USING PANDAS AND SEE SIZE"
   ]
  },
  {
   "cell_type": "code",
   "execution_count": 242,
   "metadata": {},
   "outputs": [
    {
     "name": "stdout",
     "output_type": "stream",
     "text": [
      "shape =  (20, 15)\n"
     ]
    }
   ],
   "source": [
    "df = pd.read_csv(r'C:\\Users\\user\\Desktop\\EPHI\\DS Training\\Data_Sets\\Case_study_Multiple_reg.csv')\n",
    "print('shape = ',df.shape)"
   ]
  },
  {
   "cell_type": "markdown",
   "metadata": {},
   "source": [
    " DISPLAY HEAD DEFAULT OF FIRST FIVE VALUES"
   ]
  },
  {
   "cell_type": "code",
   "execution_count": 243,
   "metadata": {
    "scrolled": true
   },
   "outputs": [
    {
     "name": "stdout",
     "output_type": "stream",
     "text": [
      "   No  YEAR  Probable Estimate    ANC  Dummy 1   DPT3  Dummy 2  Measles  \\\n",
      "0   1  2000                110  27.00      NaN  20.70     2.24    26.60   \n",
      "1   2  2001                140  29.24      NaN  22.94      NaN    28.26   \n",
      "2   3  2002                146  31.48      NaN  25.18      NaN    29.92   \n",
      "3   4  2003                121  33.72      NaN  27.42      NaN    31.58   \n",
      "4   5  2004                107  35.96      NaN  29.66      NaN    33.24   \n",
      "\n",
      "   Dummy 3   Sati  Dummy 4    Dia  Dummy 5    iws  Dummy 6  \n",
      "0     1.66  47.40     3.74  21.10     0.82  23.60     7.32  \n",
      "1      NaN  51.14      NaN  21.92      NaN  30.92      NaN  \n",
      "2      NaN  54.88      NaN  22.74      NaN  38.24      NaN  \n",
      "3      NaN  58.62      NaN  23.56      NaN  45.56      NaN  \n",
      "4      NaN  62.36      NaN  24.38      NaN  52.88      NaN  \n"
     ]
    }
   ],
   "source": [
    "print(df.head())"
   ]
  },
  {
   "cell_type": "markdown",
   "metadata": {},
   "source": [
    "## STEP 3:  PREPROCESSING"
   ]
  },
  {
   "cell_type": "markdown",
   "metadata": {},
   "source": [
    "###    Data Cleaning"
   ]
  },
  {
   "cell_type": "code",
   "execution_count": 247,
   "metadata": {
    "scrolled": true
   },
   "outputs": [
    {
     "name": "stdout",
     "output_type": "stream",
     "text": [
      "<bound method NDFrame.head of     No  YEAR  Probable Estimate    ANC   DPT3  Measles    Sati    Dia    iws\n",
      "0    1  2000                110  27.00  20.70    26.60  47.400  21.10  23.60\n",
      "1    2  2001                140  29.24  22.94    28.26  51.140  21.92  30.92\n",
      "2    3  2002                146  31.48  25.18    29.92  54.880  22.74  38.24\n",
      "3    4  2003                121  33.72  27.42    31.58  58.620  23.56  45.56\n",
      "4    5  2004                107  35.96  29.66    33.24  62.360  24.38  52.88\n",
      "5    6  2005                 92  28.00  31.90    34.90  66.100  25.20  60.20\n",
      "6    7  2006                120  29.00  32.67    38.37  63.667  26.83  58.75\n",
      "7    8  2007                106  30.00  33.44    41.84  61.234  28.46  57.30\n",
      "8    9  2008                 93  31.00  34.21    45.31  58.801  30.09  55.85\n",
      "9   10  2009                102  32.00  34.98    48.78  56.368  31.72  54.40\n",
      "10  11  2010                 89  33.00  35.75    52.25  53.935  33.35  52.92\n",
      "11  12  2011                 89  34.00  36.50    55.70  51.500  35.00  51.50\n",
      "12  13  2012                 69  39.60  39.84    55.42  55.860  36.88  53.62\n",
      "13  14  2013                 67  45.20  43.18    55.14  60.220  38.76  55.74\n",
      "14  15  2014                 64  50.80  46.52    54.86  64.580  40.64  57.86\n",
      "15  16  2015                 70  56.40  49.86    54.58  68.940  42.52  59.98\n",
      "16  17  2016                 66  62.00  53.20    54.30  73.300  44.40  62.10\n",
      "17  18  2017                 57  65.89  55.80    55.87  73.630  46.60  63.87\n",
      "18  19  2018                 52  69.78  58.40    57.44  73.960  48.80  65.64\n",
      "19  20  2019                 48  73.60  61.00    59.00  74.300  51.00  67.40>\n"
     ]
    }
   ],
   "source": [
    "df1 = df.drop(['Dummy 1','Dummy 2','Dummy 3','Dummy 4','Dummy 5','Dummy 6'],axis = 1)\n",
    "print(df1.head)"
   ]
  },
  {
   "cell_type": "markdown",
   "metadata": {},
   "source": [
    "### Feature Selection"
   ]
  },
  {
   "cell_type": "markdown",
   "metadata": {},
   "source": [
    " ## P_Value"
   ]
  },
  {
   "cell_type": "code",
   "execution_count": 248,
   "metadata": {},
   "outputs": [
    {
     "name": "stdout",
     "output_type": "stream",
     "text": [
      "      ANC   DPT3  Measles    Sati    Dia    iws\n",
      "0   27.00  20.70    26.60  47.400  21.10  23.60\n",
      "1   29.24  22.94    28.26  51.140  21.92  30.92\n",
      "2   31.48  25.18    29.92  54.880  22.74  38.24\n",
      "3   33.72  27.42    31.58  58.620  23.56  45.56\n",
      "4   35.96  29.66    33.24  62.360  24.38  52.88\n",
      "5   28.00  31.90    34.90  66.100  25.20  60.20\n",
      "6   29.00  32.67    38.37  63.667  26.83  58.75\n",
      "7   30.00  33.44    41.84  61.234  28.46  57.30\n",
      "8   31.00  34.21    45.31  58.801  30.09  55.85\n",
      "9   32.00  34.98    48.78  56.368  31.72  54.40\n",
      "10  33.00  35.75    52.25  53.935  33.35  52.92\n",
      "11  34.00  36.50    55.70  51.500  35.00  51.50\n",
      "12  39.60  39.84    55.42  55.860  36.88  53.62\n",
      "13  45.20  43.18    55.14  60.220  38.76  55.74\n",
      "14  50.80  46.52    54.86  64.580  40.64  57.86\n",
      "15  56.40  49.86    54.58  68.940  42.52  59.98\n",
      "16  62.00  53.20    54.30  73.300  44.40  62.10\n",
      "17  65.89  55.80    55.87  73.630  46.60  63.87\n",
      "18  69.78  58.40    57.44  73.960  48.80  65.64\n",
      "19  73.60  61.00    59.00  74.300  51.00  67.40\n"
     ]
    }
   ],
   "source": [
    "x = df1.drop(['Probable Estimate','YEAR','No'],axis = 1)\n",
    "y = df1['Probable Estimate']\n",
    "print(x)"
   ]
  },
  {
   "cell_type": "code",
   "execution_count": 249,
   "metadata": {},
   "outputs": [
    {
     "name": "stdout",
     "output_type": "stream",
     "text": [
      "[1.22289979e-05 3.43302264e-08 2.20331071e-07 1.11830050e-03\n",
      " 7.93456293e-09 2.18213388e-04]\n"
     ]
    }
   ],
   "source": [
    "from sklearn.feature_selection import f_regression\n",
    "P_value = f_regression(x,y)[1]\n",
    "print(P_value)"
   ]
  },
  {
   "cell_type": "markdown",
   "metadata": {},
   "source": [
    "### MultiCollinearity"
   ]
  },
  {
   "cell_type": "markdown",
   "metadata": {},
   "source": [
    "### Formula for adjusted R^2\n",
    "$R_{adj.}^2 = 1-(1-R^2)*\\frac{n-1}{n-p-1}$"
   ]
  },
  {
   "cell_type": "code",
   "execution_count": 250,
   "metadata": {},
   "outputs": [
    {
     "name": "stdout",
     "output_type": "stream",
     "text": [
      "0.8262593163961944\n"
     ]
    }
   ],
   "source": [
    "from sklearn.linear_model import LinearRegression\n",
    "reg.fit(x,y)\n",
    "r2 = reg.score(x,y)\n",
    "n = 20\n",
    "p = 5\n",
    "adjr2 = 1 - ((1-r2)*(n-1)/(n-p-1))\n",
    "print(adjr2)"
   ]
  },
  {
   "cell_type": "code",
   "execution_count": 251,
   "metadata": {},
   "outputs": [
    {
     "name": "stdout",
     "output_type": "stream",
     "text": [
      "5.755704301707354\n"
     ]
    }
   ],
   "source": [
    "VIF = 1/(1-adjr2)\n",
    "print(VIF)"
   ]
  },
  {
   "cell_type": "markdown",
   "metadata": {},
   "source": [
    "## STEP 3:TRAIN TEST SPLIT"
   ]
  },
  {
   "cell_type": "code",
   "execution_count": 252,
   "metadata": {},
   "outputs": [],
   "source": [
    "x_train,x_test,y_train,y_test = train_test_split(x,y,test_size = 0.2,shuffle = 'True')"
   ]
  },
  {
   "cell_type": "code",
   "execution_count": 253,
   "metadata": {},
   "outputs": [],
   "source": [
    "y_train = np.array(y_train)\n",
    "y_train = y_train.reshape(len(y_train),1)\n",
    "y_test = np.array(y_test)\n",
    "y_test = y_test.reshape(len(y_test),1)"
   ]
  },
  {
   "cell_type": "markdown",
   "metadata": {},
   "source": [
    "## STEP 4: REGRESSION MODEL"
   ]
  },
  {
   "cell_type": "raw",
   "metadata": {},
   "source": [
    "reg = linearRegression()\n",
    "reg.fit(x,y)"
   ]
  },
  {
   "cell_type": "code",
   "execution_count": 254,
   "metadata": {},
   "outputs": [
    {
     "data": {
      "text/plain": [
       "array([   1.06025682,  256.27207054,   37.23890432,  -51.88583711,\n",
       "       -303.98550996,  -26.96979205])"
      ]
     },
     "execution_count": 254,
     "metadata": {},
     "output_type": "execute_result"
    }
   ],
   "source": [
    "reg.coef_"
   ]
  },
  {
   "cell_type": "code",
   "execution_count": 255,
   "metadata": {
    "scrolled": true
   },
   "outputs": [
    {
     "data": {
      "text/plain": [
       "3315.753947288909"
      ]
     },
     "execution_count": 255,
     "metadata": {},
     "output_type": "execute_result"
    }
   ],
   "source": [
    "reg.intercept_"
   ]
  },
  {
   "cell_type": "markdown",
   "metadata": {},
   "source": [
    "## STEP 5: VALIDATION"
   ]
  },
  {
   "cell_type": "code",
   "execution_count": 256,
   "metadata": {},
   "outputs": [
    {
     "name": "stdout",
     "output_type": "stream",
     "text": [
      "[[39.6  39.84 55.42 55.86 36.88 53.62]\n",
      " [69.78 58.4  57.44 73.96 48.8  65.64]\n",
      " [31.48 25.18 29.92 54.88 22.74 38.24]\n",
      " [65.89 55.8  55.87 73.63 46.6  63.87]]\n"
     ]
    }
   ],
   "source": [
    "x_test = np.array(x_test)\n",
    "y_test = np.array(y_test)\n",
    "print(x_test)\n",
    "target = y"
   ]
  },
  {
   "cell_type": "code",
   "execution_count": 258,
   "metadata": {},
   "outputs": [
    {
     "name": "stdout",
     "output_type": "stream",
     "text": [
      "[6.95076703]\n",
      "[0.76370299]\n",
      "[21.20049957]\n",
      "[0.49382087]\n"
     ]
    }
   ],
   "source": [
    "for i in range (len(x_test)):\n",
    "    xx = x_test[i,0:6]\n",
    "    delta1 = (reg.predict([xx]) - y_test[i])\n",
    "    delta = np.sqrt(delta1**2)\n",
    "    print(delta)"
   ]
  },
  {
   "cell_type": "markdown",
   "metadata": {},
   "source": [
    "## STEP 5: PREDICTION"
   ]
  },
  {
   "cell_type": "code",
   "execution_count": 260,
   "metadata": {},
   "outputs": [
    {
     "data": {
      "text/plain": [
       "array([75.95076703])"
      ]
     },
     "execution_count": 260,
     "metadata": {},
     "output_type": "execute_result"
    }
   ],
   "source": [
    "reg.predict([[39.6, 39.84, 55.42, 55.86,36.88, 53.62 ]])"
   ]
  },
  {
   "cell_type": "code",
   "execution_count": null,
   "metadata": {},
   "outputs": [],
   "source": []
  }
 ],
 "metadata": {
  "kernelspec": {
   "display_name": "Python 3",
   "language": "python",
   "name": "python3"
  },
  "language_info": {
   "codemirror_mode": {
    "name": "ipython",
    "version": 3
   },
   "file_extension": ".py",
   "mimetype": "text/x-python",
   "name": "python",
   "nbconvert_exporter": "python",
   "pygments_lexer": "ipython3",
   "version": "3.8.3"
  }
 },
 "nbformat": 4,
 "nbformat_minor": 4
}
